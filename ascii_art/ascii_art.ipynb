{
 "cells": [
  {
   "cell_type": "code",
   "execution_count": null,
   "metadata": {},
   "outputs": [],
   "source": [
    "import PIL.Image\n",
    "from mpmath import mp"
   ]
  },
  {
   "cell_type": "code",
   "execution_count": null,
   "metadata": {},
   "outputs": [],
   "source": [
    "ASCII_CHARS = ['.', '@']\n",
    "mp.dps = 20000\n",
    "pi = mp.pi\n",
    "pi = str(pi)\n",
    "pi = list(pi)"
   ]
  },
  {
   "cell_type": "code",
   "execution_count": null,
   "metadata": {},
   "outputs": [],
   "source": [
    "def resize(image, new_width = 100):\n",
    "    width, height = image.size\n",
    "    new_height = new_width * height // width\n",
    "    return image.resize(((new_width*2), new_height))"
   ]
  },
  {
   "cell_type": "code",
   "execution_count": null,
   "metadata": {},
   "outputs": [],
   "source": [
    "def to_greyscale(image):\n",
    "    return image.convert(\"L\")"
   ]
  },
  {
   "cell_type": "code",
   "execution_count": null,
   "metadata": {},
   "outputs": [],
   "source": [
    "def pixel_to_ascii(image):\n",
    "    pixels = image.getdata()\n",
    "    ascii_str = \"\";\n",
    "    for pixel in pixels:\n",
    "        ascii_str += ASCII_CHARS[(pixel//127)-1];\n",
    "    return ascii_str"
   ]
  },
  {
   "cell_type": "code",
   "execution_count": null,
   "metadata": {},
   "outputs": [],
   "source": [
    "path = \"pi2.jpg\"\n",
    "try:\n",
    "    image = PIL.Image.open(path)\n",
    "except:\n",
    "    print(path, \"Unable to find image \")\n",
    "    \n",
    "image = resize(image)   # convert image to greyscale image\n",
    "greyscale_image = to_greyscale(image)   # convert greyscale image to ascii characters\n",
    "ascii_str = pixel_to_ascii(greyscale_image)\n",
    "\n",
    "ascii_str = ''.join([' ' if x == '.' else pi.pop(0) for x in ascii_str])"
   ]
  },
  {
   "cell_type": "code",
   "execution_count": null,
   "metadata": {},
   "outputs": [],
   "source": [
    "img_width = greyscale_image.width\n",
    "ascii_str_len = len(ascii_str)\n",
    "ascii_img=\"\"   # Split the string based on width  of the image\n",
    "for i in range(0, ascii_str_len, img_width):\n",
    "    ascii_img += ascii_str[i:i+img_width] + \"\\n\"    \n",
    "    \n",
    "# save the string to a file\n",
    "with open(\"ascii_image.txt\", \"w\") as f:\n",
    "    f.write(ascii_img);"
   ]
  }
 ],
 "metadata": {
  "kernelspec": {
   "display_name": "Python 3",
   "language": "python",
   "name": "python3"
  },
  "language_info": {
   "codemirror_mode": {
    "name": "ipython",
    "version": 3
   },
   "file_extension": ".py",
   "mimetype": "text/x-python",
   "name": "python",
   "nbconvert_exporter": "python",
   "pygments_lexer": "ipython3",
   "version": "3.8.3"
  }
 },
 "nbformat": 4,
 "nbformat_minor": 4
}
