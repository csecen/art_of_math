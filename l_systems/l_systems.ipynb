{
 "cells": [
  {
   "cell_type": "code",
   "execution_count": 1,
   "id": "7cac1164-ae74-4d84-901a-0d02acb63fa2",
   "metadata": {},
   "outputs": [],
   "source": [
    "import numpy as np\n",
    "import matplotlib.pyplot as plt"
   ]
  },
  {
   "cell_type": "code",
   "execution_count": null,
   "id": "664db0c7-7ebb-43fe-abb2-050c927d0fc8",
   "metadata": {},
   "outputs": [],
   "source": []
  },
  {
   "cell_type": "code",
   "execution_count": 63,
   "id": "5e23d745-7363-4b60-bd7a-3f9e454166bf",
   "metadata": {},
   "outputs": [],
   "source": [
    "def transforms(system, const):\n",
    "    seq=[0]\n",
    "    val=[0]\n",
    "    \n",
    "    for i in range(1, len(x)):\n",
    "        even= (190*x[i])* (np.pi / 180 )\n",
    "        rad=rad+even\n",
    "        seq.append(seq[i-1]+np.sin(rad))\n",
    "        if x[i]%2==0:\n",
    "            seq.append(seq[i-1]+np.sin(rad+even))\n",
    "            rad=rad+even            \n",
    "        else:\n",
    "            seq.append(seq[i-1]+np.sin(rad+odd))\n",
    "            rad=rad+odd\n",
    "        val.append(val[i-1]+np.cos(rad))\n",
    "    return val,seq"
   ]
  },
  {
   "cell_type": "code",
   "execution_count": null,
   "id": "108a7509-21e4-472d-bd99-ab3cd81208cf",
   "metadata": {},
   "outputs": [],
   "source": [
    "def l_system(axiom, rules, const, iterations):    \n",
    "    system = axiom\n",
    "    \n",
    "    for _ in range(1,iterations):\n",
    "        new_sys = ''\n",
    "        for c in system:\n",
    "            new_sys += rules[c]\n",
    "            \n",
    "        system = new_sys\n",
    "        \n",
    "    return system\n",
    "        "
   ]
  },
  {
   "cell_type": "code",
   "execution_count": 2,
   "id": "ebf719e1-b4a5-4841-ab9f-63890f6b4908",
   "metadata": {},
   "outputs": [],
   "source": [
    "r1 = {'a':'b'}\n",
    "r2 = {'b':'ab'}"
   ]
  },
  {
   "cell_type": "code",
   "execution_count": 3,
   "id": "c3f6d7c5-0752-4601-a92f-f3d8f309df75",
   "metadata": {},
   "outputs": [],
   "source": [
    "string = 'a'"
   ]
  },
  {
   "cell_type": "code",
   "execution_count": null,
   "id": "cf8688a8-9308-4613-a5ef-13ef442ef6c6",
   "metadata": {},
   "outputs": [],
   "source": [
    "def apply_rule(c, r1, r2):\n",
    "    "
   ]
  },
  {
   "cell_type": "code",
   "execution_count": 8,
   "id": "c1ee6c9e-c0db-4106-a89b-4b877a28d1eb",
   "metadata": {},
   "outputs": [
    {
     "name": "stdout",
     "output_type": "stream",
     "text": [
      "bab\n",
      "abbab\n",
      "bababbab\n",
      "abbabbababbab\n",
      "bababbababbabbababbab\n",
      "abbabbababbabbababbababbabbababbab\n"
     ]
    }
   ],
   "source": [
    "string = 'ab'\n",
    "\n",
    "for i in range(1,7):\n",
    "    new_string = ''\n",
    "\n",
    "    for c in string:\n",
    "        new_string += r1[c] if c in r1 else r2[c]\n",
    "        \n",
    "    string = new_string\n",
    "    \n",
    "    \n",
    "    print(string)"
   ]
  },
  {
   "cell_type": "code",
   "execution_count": 5,
   "id": "3e43f6bf-32e3-48bf-b42a-e42a09f14f3c",
   "metadata": {},
   "outputs": [
    {
     "data": {
      "text/plain": [
       "'b'"
      ]
     },
     "execution_count": 5,
     "metadata": {},
     "output_type": "execute_result"
    }
   ],
   "source": [
    "c = 'a'\n",
    "r1[c] if c in r1 else r2['c']"
   ]
  },
  {
   "cell_type": "code",
   "execution_count": null,
   "id": "23376e65-b0ed-4d16-8249-588c9899ac78",
   "metadata": {},
   "outputs": [],
   "source": []
  }
 ],
 "metadata": {
  "kernelspec": {
   "display_name": "aom",
   "language": "python",
   "name": "aom"
  },
  "language_info": {
   "codemirror_mode": {
    "name": "ipython",
    "version": 3
   },
   "file_extension": ".py",
   "mimetype": "text/x-python",
   "name": "python",
   "nbconvert_exporter": "python",
   "pygments_lexer": "ipython3",
   "version": "3.9.13"
  }
 },
 "nbformat": 4,
 "nbformat_minor": 5
}
