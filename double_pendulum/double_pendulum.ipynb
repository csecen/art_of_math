{
 "cells": [
  {
   "cell_type": "code",
   "execution_count": 21,
   "metadata": {},
   "outputs": [
    {
     "data": {
      "image/png": "[encoded data removed]",
      "text/plain": [
       "<Figure size 599.998x450 with 1 Axes>"
      ]
     },
     "metadata": {
      "needs_background": "light"
     },
     "output_type": "display_data"
    }
   ],
   "source": [
    "import sys\n",
    "import numpy as np\n",
    "from scipy.integrate import odeint\n",
    "import matplotlib.pyplot as plt\n",
    "from matplotlib.patches import Circle\n",
    "import matplotlib.animation as animation\n",
    "\n",
    "# Pendulum rod lengths (m), bob masses (kg).\n",
    "L1, L2 = 1, 1\n",
    "m1, m2 = 1, 1\n",
    "# The gravitational acceleration (m.s-2).\n",
    "g = 9.81\n",
    "\n",
    "def deriv(y, t, L1, L2, m1, m2):\n",
    "    \"\"\"Return the first derivatives of y = theta1, z1, theta2, z2.\"\"\"\n",
    "    theta1, z1, theta2, z2 = y\n",
    "\n",
    "    c, s = np.cos(theta1-theta2), np.sin(theta1-theta2)\n",
    "\n",
    "    theta1dot = z1\n",
    "    z1dot = (m2*g*np.sin(theta2)*c - m2*s*(L1*z1**2*c + L2*z2**2) -\n",
    "             (m1+m2)*g*np.sin(theta1)) / L1 / (m1 + m2*s**2)\n",
    "    theta2dot = z2\n",
    "    z2dot = ((m1+m2)*(L1*z1**2*s - g*np.sin(theta2) + g*np.sin(theta1)*c) + \n",
    "             m2*L2*z2**2*s*c) / L2 / (m1 + m2*s**2)\n",
    "    return theta1dot, z1dot, theta2dot, z2dot\n",
    "\n",
    "\n",
    "# Maximum time, time point spacings and the time grid (all in s).\n",
    "tmax, dt = 30, 0.01\n",
    "t = np.arange(0, tmax+dt, dt)\n",
    "\n",
    "# Initial conditions: theta1, dtheta1/dt, theta2, dtheta2/dt.\n",
    "y0 = np.array([3*np.pi/7, 0, 3*np.pi/4, 0])\n",
    "\n",
    "# Do the numerical integration of the equations of motion\n",
    "y = odeint(deriv, y0, t, args=(L1, L2, m1, m2))\n",
    "\n",
    "# Unpack z and theta as a function of time\n",
    "theta1, theta2 = y[:,0], y[:,2]\n",
    "\n",
    "# Convert to Cartesian coordinates of the two bob positions.\n",
    "x1 = L1 * np.sin(theta1)\n",
    "y1 = -L1 * np.cos(theta1)\n",
    "x2 = x1 + L2 * np.sin(theta2)\n",
    "y2 = y1 - L2 * np.cos(theta2)\n",
    "\n",
    "# Plotted bob circle radius\n",
    "r = 0.05\n",
    "# Plot a trail of the m2 bob's position for the last trail_secs seconds.\n",
    "trail_secs = 1\n",
    "# This corresponds to max_trail time points.\n",
    "max_trail = int(trail_secs / dt)\n",
    "\n",
    "\n",
    "def animate(i):\n",
    "# def make_plot(i):\n",
    "    # Plot and save an image of the double pendulum configuration for time\n",
    "    # point i.\n",
    "    # The pendulum rods.\n",
    "    ax.plot([0, x1[i], x2[i]], [0, y1[i], y2[i]], lw=2, c='k')\n",
    "    # Circles representing the anchor point of rod 1, and bobs 1 and 2.\n",
    "    c0 = Circle((0, 0), r/2, fc='k', zorder=10)\n",
    "    c1 = Circle((x1[i], y1[i]), r, fc='b', ec='b', zorder=10)\n",
    "    c2 = Circle((x2[i], y2[i]), r, fc='r', ec='r', zorder=10)\n",
    "    ax.add_patch(c0)\n",
    "    ax.add_patch(c1)\n",
    "    ax.add_patch(c2)\n",
    "\n",
    "    # The trail will be divided into ns segments and plotted as a fading line.\n",
    "    ns = 20\n",
    "    s = max_trail // ns\n",
    "    for j in range(ns):\n",
    "        imin = i - (ns-j)*s\n",
    "        if imin < 0:\n",
    "            continue\n",
    "        imax = imin + s + 1\n",
    "        # The fading looks better if we square the fractional length along the\n",
    "        # trail.\n",
    "        alpha = (j/ns)**2\n",
    "        ax.plot(x2[imin:imax], y2[imin:imax], c='r', solid_capstyle='butt',\n",
    "                lw=2, alpha=alpha)\n",
    "\n",
    "    # Centre the image on the fixed anchor point, and ensure the axes are equal\n",
    "    ax.set_xlim(-L1-L2-r, L1+L2+r)\n",
    "    ax.set_ylim(-L1-L2-r, L1+L2+r)\n",
    "    ax.set_aspect('equal', adjustable='box')\n",
    "    ax.axis('off')\n",
    "#     plt.axis('off')\n",
    "    return ax,\n",
    "#     plt.savefig('frames/_img{:04d}.png'.format(i//di), dpi=72)\n",
    "#     plt.cla()\n",
    "\n",
    "\n",
    "# Make an image every di time points, corresponding to a frame rate of fps\n",
    "# frames per second.\n",
    "# Frame rate, s-1\n",
    "fps = 10\n",
    "di = int(1/fps/dt)\n",
    "fig = plt.figure(figsize=(8.3333, 6.25), dpi=72)\n",
    "ax = fig.add_subplot(111)\n",
    "\n",
    "ani = animation.FuncAnimation(fig, animate, range(1, len(y)),\n",
    "                              interval=dt*1000, blit=True)\n",
    "\n",
    "for i in range(0, t.size, di):\n",
    "    make_plot(i)\n",
    "    "
   ]
  },
  {
   "cell_type": "code",
   "execution_count": 22,
   "metadata": {},
   "outputs": [],
   "source": [
    "ani.save('test.gif', writer='pillow', fps=1 / dt)"
   ]
  },
  {
   "cell_type": "code",
   "execution_count": null,
   "metadata": {},
   "outputs": [],
   "source": []
  },
  {
   "cell_type": "code",
   "execution_count": null,
   "metadata": {},
   "outputs": [],
   "source": []
  },
  {
   "cell_type": "code",
   "execution_count": 1,
   "metadata": {},
   "outputs": [
    {
     "data": {
      "text/plain": [
       "<matplotlib.colorbar.Colorbar at 0x7f45c00024f0>"
      ]
     },
     "execution_count": 1,
     "metadata": {},
     "output_type": "execute_result"
    },
    {
     "data": {
      "image/png": "[encoded data removed]",
      "text/plain": [
       "<Figure size 432x288 with 3 Axes>"
      ]
     },
     "metadata": {
      "needs_background": "light"
     },
     "output_type": "display_data"
    }
   ],
   "source": [
    "import numpy as np\n",
    "import matplotlib.pyplot as plt\n",
    "from matplotlib.collections import LineCollection\n",
    "from matplotlib.colors import ListedColormap, BoundaryNorm\n",
    "\n",
    "x = np.linspace(0, 3 * np.pi, 500)\n",
    "y = np.sin(x)\n",
    "dydx = np.cos(0.5 * (x[:-1] + x[1:]))  # first derivative\n",
    "\n",
    "# Create a set of line segments so that we can color them individually\n",
    "# This creates the points as a N x 1 x 2 array so that we can stack points\n",
    "# together easily to get the segments. The segments array for line collection\n",
    "# needs to be (numlines) x (points per line) x 2 (for x and y)\n",
    "points = np.array([x, y]).T.reshape(-1, 1, 2)\n",
    "segments = np.concatenate([points[:-1], points[1:]], axis=1)\n",
    "\n",
    "fig, axs = plt.subplots(2, 1, sharex=True, sharey=True)\n",
    "\n",
    "# Create a continuous norm to map from data points to colors\n",
    "norm = plt.Normalize(dydx.min(), dydx.max())\n",
    "lc = LineCollection(segments, cmap='viridis', norm=norm)\n",
    "\n",
    "# Set the values used for colormapping\n",
    "# lc.set_array(dydx)\n",
    "lc.set_linewidth(2)\n",
    "line = axs[0].add_collection(lc)\n",
    "fig.colorbar(line, ax=axs[0])"
   ]
  },
  {
   "cell_type": "code",
   "execution_count": null,
   "metadata": {},
   "outputs": [],
   "source": [
    "# Use a boundary norm instead\n",
    "cmap = ListedColormap(['r', 'g', 'b'])\n",
    "norm = BoundaryNorm([-1, -0.5, 0.5, 1], cmap.N)\n",
    "lc = LineCollection(segments, cmap=cmap, norm=norm)\n",
    "lc.set_array(dydx)\n",
    "lc.set_linewidth(2)\n",
    "line = axs[1].add_collection(lc)\n",
    "fig.colorbar(line, ax=axs[1])\n",
    "\n",
    "axs[0].set_xlim(x.min(), x.max())\n",
    "axs[0].set_ylim(-1.1, 1.1)\n",
    "plt.show()"
   ]
  },
  {
   "cell_type": "code",
   "execution_count": null,
   "metadata": {},
   "outputs": [],
   "source": []
  },
  {
   "cell_type": "code",
   "execution_count": null,
   "metadata": {},
   "outputs": [],
   "source": []
  },
  {
   "cell_type": "code",
   "execution_count": null,
   "metadata": {},
   "outputs": [],
   "source": []
  },
  {
   "cell_type": "code",
   "execution_count": null,
   "metadata": {},
   "outputs": [],
   "source": []
  },
  {
   "cell_type": "code",
   "execution_count": 1,
   "metadata": {},
   "outputs": [],
   "source": [
    "from numpy import sin, cos\n",
    "import numpy as np\n",
    "import matplotlib.pyplot as plt\n",
    "import scipy.integrate as integrate\n",
    "import matplotlib.animation as animation\n",
    "from matplotlib.collections import LineCollection"
   ]
  },
  {
   "cell_type": "code",
   "execution_count": 2,
   "metadata": {},
   "outputs": [],
   "source": [
    "G = 9.8  # acceleration due to gravity, in m/s^2\n",
    "L1 = 2.0  # length of pendulum 1 in m\n",
    "L2 = 2.0  # length of pendulum 2 in m\n",
    "M1 = 1.0  # mass of pendulum 1 in kg\n",
    "M2 = 1.0  # mass of pendulum 2 in kg"
   ]
  },
  {
   "cell_type": "code",
   "execution_count": 3,
   "metadata": {},
   "outputs": [],
   "source": [
    "def derivs(state, t):\n",
    "\n",
    "    dydx = np.zeros_like(state)\n",
    "    dydx[0] = state[1]\n",
    "\n",
    "    delta = state[2] - state[0]\n",
    "    den1 = (M1+M2) * L1 - M2 * L1 * cos(delta) * cos(delta)\n",
    "    dydx[1] = ((M2 * L1 * state[1] * state[1] * sin(delta) * cos(delta)\n",
    "                + M2 * G * sin(state[2]) * cos(delta)\n",
    "                + M2 * L2 * state[3] * state[3] * sin(delta)\n",
    "                - (M1+M2) * G * sin(state[0]))\n",
    "               / den1)\n",
    "\n",
    "    dydx[2] = state[3]\n",
    "\n",
    "    den2 = (L2/L1) * den1\n",
    "    dydx[3] = ((- M2 * L2 * state[3] * state[3] * sin(delta) * cos(delta)\n",
    "                + (M1+M2) * G * sin(state[0]) * cos(delta)\n",
    "                - (M1+M2) * L1 * state[1] * state[1] * sin(delta)\n",
    "                - (M1+M2) * G * sin(state[2]))\n",
    "               / den2)\n",
    "\n",
    "    return dydx"
   ]
  },
  {
   "cell_type": "code",
   "execution_count": 4,
   "metadata": {},
   "outputs": [],
   "source": [
    "# create a time array from 0..100 sampled at 0.05 second steps\n",
    "dt = 0.03\n",
    "t = np.arange(0, 30, dt)\n",
    "\n",
    "# th1 and th2 are the initial angles (degrees)\n",
    "# w10 and w20 are the initial angular velocities (degrees per second)\n",
    "th1 = 120.0\n",
    "w1 = 0.0\n",
    "th2 = -10.0\n",
    "w2 = 0.0\n",
    "\n",
    "# initial state\n",
    "state = np.radians([th1, w1, th2, w2])"
   ]
  },
  {
   "cell_type": "code",
   "execution_count": 5,
   "metadata": {},
   "outputs": [],
   "source": [
    "# integrate your ODE using scipy.integrate.\n",
    "y = integrate.odeint(derivs, state, t)"
   ]
  },
  {
   "cell_type": "code",
   "execution_count": 6,
   "metadata": {},
   "outputs": [],
   "source": [
    "x1 = L1*sin(y[:, 0])\n",
    "y1 = -L1*cos(y[:, 0])\n",
    "\n",
    "x2 = L2*sin(y[:, 2]) + x1\n",
    "y2 = -L2*cos(y[:, 2]) + y1"
   ]
  },
  {
   "cell_type": "code",
   "execution_count": 19,
   "metadata": {},
   "outputs": [
    {
     "data": {
      "text/plain": [
       "(-4.0, 4.0, -4.0, 4.0)"
      ]
     },
     "execution_count": 19,
     "metadata": {},
     "output_type": "execute_result"
    },
    {
     "data": {
      "image/png": "[encoded data removed]",
      "text/plain": [
       "<Figure size 432x288 with 1 Axes>"
      ]
     },
     "metadata": {},
     "output_type": "display_data"
    }
   ],
   "source": [
    "fig = plt.figure()\n",
    "fig.patch.set_facecolor('black')\n",
    "ax = fig.add_subplot(111, autoscale_on=True, xlim=(-4, 4), ylim=(-4, 4))\n",
    "ax.set_aspect('equal')\n",
    "ax.axis('off')"
   ]
  },
  {
   "cell_type": "code",
   "execution_count": 17,
   "metadata": {},
   "outputs": [],
   "source": [
    "# line, = ax.plot([], [], 'o-', lw=2)\n",
    "line, = ax.plot([], [], lw=2)\n",
    "line2, = ax.plot([], [], color='cyan', lw=2)\n",
    "# ax.set_ylim(-8, 8)\n",
    "# ax.set_xlim(-8, 8)\n",
    "\n",
    "\n",
    "# def init():\n",
    "# #     line.set_data([], [])\n",
    "#     line, = ax.plot([], [], 'o-', lw=2)\n",
    "#     line2, = ax.plot([], [], 'o-', markersize = 5, alpha=0.05, color='cyan')\n",
    "#     return line, line2, \n",
    "\n",
    "\n",
    "def animate(i):\n",
    "    thisx = [0, x1[i], x2[i]]\n",
    "    thisy = [1, y1[i]+1, y2[i]+1]\n",
    "#     print(i)\n",
    "    line.set_data(thisx, thisy)\n",
    "    line2.set_data(x2[:i+1], y2[:i+1]+1)\n",
    "#     line2.set_data(x2[i:i+10], y2[i:i+10]+1)\n",
    "    return line, line2,\n",
    "#     return line2,\n",
    "\n",
    "\n",
    "ani = animation.FuncAnimation(fig, animate, range(1, len(y)),\n",
    "                              interval=dt*1000, blit=True)#, init_func=init)"
   ]
  },
  {
   "cell_type": "code",
   "execution_count": 7,
   "metadata": {
    "collapsed": true,
    "jupyter": {
     "outputs_hidden": true
    }
   },
   "outputs": [
    {
     "data": {
      "text/plain": [
       "array([ 1.38475445e+00,  1.38490940e+00,  1.38537232e+00,  1.38613713e+00,\n",
       "        1.38719270e+00,  1.38852138e+00,  1.39009726e+00,  1.39188432e+00,\n",
       "        1.39383480e+00,  1.39588833e+00,  1.39797222e+00,  1.40000341e+00,\n",
       "        1.40189267e+00,  1.40355117e+00,  1.40489961e+00,  1.40587944e+00,\n",
       "        1.40646569e+00,  1.40668025e+00,  1.40660445e+00,  1.40638944e+00,\n",
       "        1.40626203e+00,  1.40652220e+00,  1.40752268e+00,  1.40960602e+00,\n",
       "        1.41292962e+00,  1.41698044e+00,  1.41925246e+00,  1.41229710e+00,\n",
       "        1.38169187e+00,  1.31529383e+00,  1.21497067e+00,  1.09016956e+00,\n",
       "        9.49437556e-01,  7.98768583e-01,  6.42213487e-01,  4.82525546e-01,\n",
       "        3.21554221e-01,  1.60462396e-01, -1.48214913e-04, -1.60146172e-01,\n",
       "       -3.19778792e-01, -4.79562701e-01, -6.40155362e-01, -8.02219438e-01,\n",
       "       -9.66299727e-01, -1.13273231e+00, -1.30159861e+00, -1.47272609e+00,\n",
       "       -1.64572632e+00, -1.82005479e+00, -1.99507447e+00, -2.17010847e+00,\n",
       "       -2.34447094e+00, -2.51746969e+00, -2.68837497e+00, -2.85634605e+00,\n",
       "       -3.02029759e+00, -3.17866893e+00, -3.32902642e+00, -3.46738784e+00,\n",
       "       -3.58719606e+00, -3.67838734e+00, -3.72869856e+00, -3.72988959e+00,\n",
       "       -3.68390932e+00, -3.60021597e+00, -3.48913219e+00, -3.35876243e+00,\n",
       "       -3.21488767e+00, -3.06162198e+00, -2.90199736e+00, -2.73835856e+00,\n",
       "       -2.57261210e+00, -2.40638018e+00, -2.24109241e+00, -2.07803353e+00,\n",
       "       -1.91835530e+00, -1.76305536e+00, -1.61292394e+00, -1.46846126e+00,\n",
       "       -1.32977406e+00, -1.19646860e+00, -1.06756623e+00, -9.41473355e-01,\n",
       "       -8.16034891e-01, -6.88686578e-01, -5.56698133e-01, -4.17471226e-01,\n",
       "       -2.68834232e-01, -1.09269842e-01,  6.19724194e-02,  2.44893570e-01,\n",
       "        4.38870273e-01,  6.42839676e-01,  8.55488997e-01,  1.07540277e+00,\n",
       "        1.30113188e+00,  1.53114716e+00,  1.76360416e+00,  1.99572505e+00,\n",
       "        2.22228341e+00,  2.43211536e+00,  2.60302087e+00,  2.70752504e+00,\n",
       "        2.73880070e+00,  2.71288431e+00,  2.64762106e+00,  2.55514408e+00,\n",
       "        2.44307805e+00,  2.31636723e+00,  2.17840323e+00,  2.03165099e+00,\n",
       "        1.87800024e+00,  1.71897004e+00,  1.55583132e+00,  1.38968083e+00,\n",
       "        1.22148306e+00,  1.05208929e+00,  8.82238647e-01,  7.12545796e-01,\n",
       "        5.43481081e-01,  3.75351499e-01,  2.08292382e-01,  4.22782221e-02,\n",
       "       -1.22844334e-01, -2.87305940e-01, -4.51357175e-01, -6.15216467e-01,\n",
       "       -7.79031927e-01, -9.42859865e-01, -1.10665776e+00, -1.27028681e+00,\n",
       "       -1.43351909e+00, -1.59604537e+00, -1.75748117e+00, -1.91736951e+00,\n",
       "       -2.07517983e+00, -2.23030241e+00, -2.38203764e+00, -2.52957878e+00,\n",
       "       -2.67198607e+00, -2.80814844e+00, -2.93672654e+00, -3.05606680e+00,\n",
       "       -3.16406913e+00, -3.25797973e+00, -3.33406498e+00, -3.38711426e+00,\n",
       "       -3.40978935e+00, -3.39226102e+00, -3.32386815e+00, -3.19924152e+00,\n",
       "       -3.02469727e+00, -2.81460619e+00, -2.58253122e+00, -2.33776618e+00,\n",
       "       -2.08613630e+00, -1.83138358e+00, -1.57606904e+00, -1.32204090e+00,\n",
       "       -1.07064866e+00, -8.22829457e-01, -5.79145851e-01, -3.39824888e-01,\n",
       "       -1.04827539e-01,  1.26041099e-01,  3.52985690e-01,  5.76051882e-01,\n",
       "        7.94946543e-01,  1.00884676e+00,  1.21617792e+00,  1.41432042e+00,\n",
       "        1.59920684e+00,  1.76490511e+00,  1.90390248e+00,  2.01003776e+00,\n",
       "        2.08418469e+00,  2.13497216e+00,  2.17206489e+00,  2.20187878e+00,\n",
       "        2.22787152e+00,  2.25180572e+00,  2.27458615e+00,  2.29669061e+00,\n",
       "        2.31838032e+00,  2.33980260e+00,  2.36104173e+00,  2.38214457e+00,\n",
       "        2.40313401e+00,  2.42401674e+00,  2.44478854e+00,  2.46543845e+00,\n",
       "        2.48595259e+00,  2.50631739e+00,  2.52652234e+00,  2.54656199e+00,\n",
       "        2.56643711e+00,  2.58615506e+00,  2.60572943e+00,  2.62517912e+00,\n",
       "        2.64452697e+00,  2.66379826e+00,  2.68301906e+00,  2.70221469e+00,\n",
       "        2.72140830e+00,  2.74061950e+00,  2.75986311e+00,  2.77914781e+00,\n",
       "        2.79847454e+00,  2.81783441e+00,  2.83720566e+00,  2.85654929e+00,\n",
       "        2.87580243e+00,  2.89486836e+00,  2.91360120e+00,  2.93178197e+00,\n",
       "        2.94908026e+00,  2.96499141e+00,  2.97873077e+00,  2.98905265e+00,\n",
       "        2.99394025e+00,  2.99010148e+00,  2.97229887e+00,  2.93303489e+00,\n",
       "        2.86411084e+00,  2.76082334e+00,  2.62486317e+00,  2.46219366e+00,\n",
       "        2.27932244e+00,  2.08147138e+00,  1.87232542e+00,  1.65429002e+00,\n",
       "        1.42878878e+00,  1.19650378e+00,  9.57571491e-01,  7.11761813e-01,\n",
       "        4.58656310e-01,  1.97826802e-01, -7.09954372e-02, -3.47770738e-01,\n",
       "       -6.32021676e-01, -9.22696518e-01, -1.21795436e+00, -1.51472906e+00,\n",
       "       -1.80783508e+00, -2.08845322e+00, -2.34298851e+00, -2.55616689e+00,\n",
       "       -2.71963272e+00, -2.83571326e+00, -2.91211601e+00, -2.95665324e+00,\n",
       "       -2.97556576e+00, -2.97358050e+00, -2.95431373e+00, -2.92061621e+00,\n",
       "       -2.87480903e+00, -2.81883386e+00, -2.75434637e+00, -2.68277398e+00,\n",
       "       -2.60535225e+00, -2.52314902e+00, -2.43708211e+00, -2.34793397e+00,\n",
       "       -2.25636525e+00, -2.16292803e+00, -2.06807888e+00, -1.97219156e+00,\n",
       "       -1.87556902e+00, -1.77845423e+00, -1.68103958e+00, -1.58347445e+00,\n",
       "       -1.48587083e+00, -1.38830665e+00, -1.29082692e+00, -1.19344227e+00,\n",
       "       -1.09612495e+00, -9.98802296e-01, -9.01347578e-01, -8.03568834e-01,\n",
       "       -7.05196402e-01, -6.05870817e-01, -5.05133548e-01, -4.02424142e-01,\n",
       "       -2.97088099e-01, -1.88399729e-01, -7.56029065e-02,  4.20306352e-02,\n",
       "        1.65130384e-01,  2.94153287e-01,  4.29319979e-01,  5.70573326e-01,\n",
       "        7.17566852e-01,  8.69683006e-01,  1.02607343e+00,  1.18570862e+00,\n",
       "        1.34742369e+00,  1.50994954e+00,  1.67192264e+00,  1.83186855e+00,\n",
       "        1.98815421e+00,  2.13889909e+00,  2.28182467e+00,  2.41400009e+00,\n",
       "        2.53139857e+00,  2.62809671e+00,  2.69484200e+00,  2.71698848e+00,\n",
       "        2.67499363e+00,  2.55862202e+00,  2.38542572e+00,  2.18333343e+00,\n",
       "        1.96972955e+00,  1.75269116e+00,  1.53601786e+00,  1.32181310e+00,\n",
       "        1.11156493e+00,  9.06600828e-01,  7.08273597e-01,  5.18007366e-01,\n",
       "        3.37248044e-01,  1.67336371e-01,  9.32234185e-03, -1.36246419e-01,\n",
       "       -2.69513846e-01, -3.91427712e-01, -5.03732794e-01, -6.08832540e-01,\n",
       "       -7.09543262e-01, -8.08792797e-01, -9.09325020e-01, -1.01346219e+00,\n",
       "       -1.12295587e+00, -1.23893319e+00, -1.36192522e+00, -1.49195216e+00,\n",
       "       -1.62863631e+00, -1.77131718e+00, -1.91915065e+00, -2.07118307e+00,\n",
       "       -2.22639812e+00, -2.38373876e+00, -2.54210784e+00, -2.70035025e+00,\n",
       "       -2.85721717e+00, -3.01130963e+00, -3.16099379e+00, -3.30427403e+00,\n",
       "       -3.43860055e+00, -3.56057847e+00, -3.66555197e+00, -3.74712839e+00,\n",
       "       -3.79708691e+00, -3.80694397e+00, -3.77227829e+00, -3.69657581e+00,\n",
       "       -3.58906422e+00, -3.45930465e+00, -3.31442875e+00, -3.15912101e+00,\n",
       "       -2.99638306e+00, -2.82819819e+00, -2.65596554e+00, -2.48076116e+00,\n",
       "       -2.30348790e+00, -2.12495411e+00, -1.94590375e+00, -1.76701258e+00,\n",
       "       -1.58886211e+00, -1.41190380e+00, -1.23642773e+00, -1.06254969e+00,\n",
       "       -8.90227868e-01, -7.19313851e-01, -5.49635284e-01, -3.81100979e-01,\n",
       "       -2.13817893e-01, -4.82134229e-02,  1.14833161e-01,  2.73832082e-01,\n",
       "        4.26465711e-01,  5.69293532e-01,  6.97524014e-01,  8.05744249e-01,\n",
       "        8.91752293e-01,  9.61484953e-01,  1.02486414e+00,  1.08801385e+00,\n",
       "        1.15290783e+00,  1.21968517e+00,  1.28794488e+00,  1.35721931e+00,\n",
       "        1.42712165e+00,  1.49737936e+00,  1.56782678e+00,  1.63838220e+00,\n",
       "        1.70901957e+00,  1.77974031e+00,  1.85054899e+00,  1.92143561e+00,\n",
       "        1.99236571e+00,  2.06327823e+00,  2.13408981e+00,  2.20470335e+00,\n",
       "        2.27501852e+00,  2.34494200e+00,  2.41439598e+00,  2.48332392e+00,\n",
       "        2.55169326e+00,  2.61949527e+00,  2.68674249e+00,  2.75346411e+00,\n",
       "        2.81969993e+00,  2.88549305e+00,  2.95088146e+00,  3.01588821e+00,\n",
       "        3.08050970e+00,  3.14470083e+00,  3.20835520e+00,  3.27127737e+00,\n",
       "        3.33314218e+00,  3.39343326e+00,  3.45134789e+00,  3.50564879e+00,\n",
       "        3.55443734e+00,  3.59483130e+00,  3.62260179e+00,  3.63205982e+00,\n",
       "        3.61687356e+00,  3.57229779e+00,  3.49749115e+00,  3.39552247e+00,\n",
       "        3.27129574e+00,  3.12963547e+00,  2.97446423e+00,  2.80869025e+00,\n",
       "        2.63433412e+00,  2.45267916e+00,  2.26438868e+00,  2.06959270e+00,\n",
       "        1.86796295e+00,  1.65879526e+00,  1.44111264e+00,  1.21379226e+00,\n",
       "        9.75708696e-01,  7.25878213e-01,  4.63589749e-01,  1.88523091e-01,\n",
       "       -9.91099768e-02, -3.98294015e-01, -7.06560900e-01, -1.01853586e+00,\n",
       "       -1.32366165e+00, -1.60607576e+00, -1.85176729e+00, -2.05646354e+00,\n",
       "       -2.22361274e+00, -2.35879971e+00, -2.46711770e+00, -2.55270881e+00,\n",
       "       -2.61893703e+00, -2.66862187e+00, -2.70420686e+00, -2.72785898e+00,\n",
       "       -2.74151828e+00, -2.74691759e+00, -2.74558756e+00, -2.73885791e+00,\n",
       "       -2.72786125e+00, -2.71354230e+00, -2.69667284e+00, -2.67787099e+00,\n",
       "       -2.65762287e+00, -2.63630471e+00, -2.61420374e+00, -2.59153685e+00,\n",
       "       -2.56846657e+00, -2.54511419e+00, -2.52157022e+00, -2.49790263e+00,\n",
       "       -2.47416302e+00, -2.45039147e+00, -2.42662011e+00, -2.40287586e+00,\n",
       "       -2.37918258e+00, -2.35556280e+00, -2.33203911e+00, -2.30863548e+00,\n",
       "       -2.28537838e+00, -2.26229796e+00, -2.23942915e+00, -2.21681284e+00,\n",
       "       -2.19449680e+00, -2.17253655e+00, -2.15099544e+00, -2.12994365e+00,\n",
       "       -2.10945511e+00, -2.08960106e+00, -2.07043863e+00, -2.05199260e+00,\n",
       "       -2.03422823e+00, -2.01701426e+00, -2.00007616e+00, -1.98294269e+00,\n",
       "       -1.96489219e+00, -1.94490862e+00, -1.92166003e+00, -1.89351156e+00,\n",
       "       -1.85858032e+00, -1.81483021e+00, -1.76019288e+00, -1.69269058e+00,\n",
       "       -1.61053181e+00, -1.51215348e+00, -1.39619259e+00, -1.26138142e+00,\n",
       "       -1.10636937e+00, -9.29488179e-01, -7.28535629e-01, -5.00950371e-01,\n",
       "       -2.45908055e-01,  2.86194235e-02,  3.00822602e-01,  5.50864747e-01,\n",
       "        7.73111645e-01,  9.69084848e-01,  1.14137285e+00,  1.29209275e+00,\n",
       "        1.42284972e+00,  1.53497151e+00,  1.62973683e+00,  1.70854157e+00,\n",
       "        1.77299037e+00,  1.82491207e+00,  1.86630697e+00,  1.89924478e+00,\n",
       "        1.92574060e+00,  1.94763744e+00,  1.96651805e+00,  1.98365767e+00,\n",
       "        2.00001779e+00,  2.01627251e+00,  2.03285484e+00,  2.05001094e+00,\n",
       "        2.06785264e+00,  2.08640252e+00,  2.10562916e+00,  2.12547261e+00,\n",
       "        2.14586130e+00,  2.16672244e+00,  2.18798779e+00,  2.20959625e+00,\n",
       "        2.23149466e+00,  2.25363749e+00,  2.27598603e+00,  2.29850732e+00,\n",
       "        2.32117310e+00,  2.34395866e+00,  2.36684173e+00,  2.38980141e+00,\n",
       "        2.41281685e+00,  2.43586596e+00,  2.45892362e+00,  2.48195961e+00,\n",
       "        2.50493582e+00,  2.52780257e+00,  2.55049372e+00,  2.57292025e+00,\n",
       "        2.59496169e+00,  2.61645532e+00,  2.63718247e+00,  2.65685194e+00,\n",
       "        2.67508070e+00,  2.69137230e+00,  2.70509437e+00,  2.71545685e+00,\n",
       "        2.72149299e+00,  2.72204551e+00,  2.71575893e+00,  2.70107785e+00,\n",
       "        2.67624792e+00,  2.63931268e+00,  2.58809452e+00,  2.52014421e+00,\n",
       "        2.43263806e+00,  2.32220323e+00,  2.18467589e+00,  2.01492676e+00,\n",
       "        1.80736704e+00,  1.55876518e+00,  1.27405020e+00,  9.67913783e-01,\n",
       "        6.56270452e-01,  3.49335940e-01,  5.21633604e-02, -2.32989793e-01,\n",
       "       -5.05241097e-01, -7.64470328e-01, -1.01106938e+00, -1.24581236e+00,\n",
       "       -1.46974288e+00, -1.68404548e+00, -1.88990245e+00, -2.08835185e+00,\n",
       "       -2.28016263e+00, -2.46573537e+00, -2.64502595e+00, -2.81747951e+00,\n",
       "       -2.98195592e+00, -3.13662698e+00, -3.27883627e+00, -3.40495478e+00,\n",
       "       -3.51038751e+00, -3.59012518e+00, -3.64033270e+00, -3.66056394e+00,\n",
       "       -3.65454413e+00, -3.62836682e+00, -3.58802124e+00, -3.53816190e+00,\n",
       "       -3.48202450e+00, -3.42175524e+00, -3.35875392e+00, -3.29392742e+00,\n",
       "       -3.22785825e+00, -3.16091329e+00, -3.09331414e+00, -3.02518348e+00,\n",
       "       -2.95657657e+00, -2.88750364e+00, -2.81794659e+00, -2.74787208e+00,\n",
       "       -2.67724237e+00, -2.60602457e+00, -2.53419839e+00, -2.46176248e+00,\n",
       "       -2.38873893e+00, -2.31517541e+00, -2.24114446e+00, -2.16673951e+00,\n",
       "       -2.09206762e+00, -2.01723941e+00, -1.94235744e+00, -1.86750492e+00,\n",
       "       -1.79273728e+00, -1.71807926e+00, -1.64352952e+00, -1.56907409e+00,\n",
       "       -1.49470837e+00, -1.42046571e+00, -1.34644980e+00, -1.27286671e+00,\n",
       "       -1.20005142e+00, -1.12847870e+00, -1.05873073e+00, -9.91337817e-01,\n",
       "       -9.26241476e-01, -8.61310233e-01, -7.89906968e-01, -7.02147078e-01,\n",
       "       -5.93238141e-01, -4.65995771e-01, -3.25596890e-01, -1.76422030e-01,\n",
       "       -2.15891003e-02,  1.36804595e-01,  2.97416581e-01,  4.59465286e-01,\n",
       "        6.22585501e-01,  7.86705439e-01,  9.51930789e-01,  1.11843404e+00,\n",
       "        1.28635617e+00,  1.45573121e+00,  1.62644166e+00,  1.79820661e+00,\n",
       "        1.97059750e+00,  2.14307058e+00,  2.31500316e+00,  2.48572111e+00,\n",
       "        2.65450679e+00,  2.82057831e+00,  2.98302954e+00,  3.14071443e+00,\n",
       "        3.29204693e+00,  3.43466792e+00,  3.56491780e+00,  3.67712214e+00,\n",
       "        3.76310469e+00,  3.81334797e+00,  3.82125031e+00,  3.78746580e+00,\n",
       "        3.71878570e+00,  3.62358096e+00,  3.50897357e+00,  3.38029814e+00,\n",
       "        3.24144520e+00,  3.09530205e+00,  2.94409030e+00,  2.78959483e+00,\n",
       "        2.63331473e+00,  2.47656221e+00,  2.32052678e+00,  2.16631364e+00,\n",
       "        2.01496025e+00,  1.86743095e+00,  1.72458739e+00,  1.58713214e+00,\n",
       "        1.45552509e+00,  1.32987810e+00,  1.20984166e+00,  1.09450690e+00,\n",
       "        9.82353456e-01,  8.71273622e-01,  7.58693681e-01,  6.41792860e-01,\n",
       "        5.17793162e-01,  3.84267690e-01,  2.39402052e-01,  8.21513977e-02,\n",
       "       -8.77354804e-02, -2.69814986e-01, -4.63128310e-01, -6.66405564e-01,\n",
       "       -8.78242616e-01, -1.09721167e+00, -1.32187318e+00, -1.55063789e+00,\n",
       "       -1.78134666e+00, -2.01019875e+00, -2.22909952e+00, -2.42038010e+00,\n",
       "       -2.55554411e+00, -2.61699890e+00, -2.61486910e+00, -2.56801590e+00,\n",
       "       -2.49045686e+00, -2.39102077e+00, -2.27532418e+00, -2.14713023e+00,\n",
       "       -2.00910868e+00, -1.86325738e+00, -1.71114402e+00, -1.55404985e+00,\n",
       "       -1.39305668e+00, -1.22909857e+00, -1.06298936e+00, -8.95432415e-01,\n",
       "       -7.27017477e-01, -5.58209881e-01, -3.89339347e-01, -2.20596550e-01,\n",
       "       -5.20446279e-02,  1.16351786e-01,  2.84683826e-01,  4.53050929e-01,\n",
       "        6.21518677e-01,  7.90088736e-01,  9.58682609e-01,  1.12713680e+00,\n",
       "        1.29520507e+00,  1.46256356e+00,  1.62881572e+00,  1.79349487e+00,\n",
       "        1.95606351e+00,  2.11590843e+00,  2.27233080e+00,  2.42453008e+00,\n",
       "        2.57157941e+00,  2.71238893e+00,  2.84565095e+00,  2.96975666e+00,\n",
       "        3.08266710e+00,  3.18170900e+00,  3.26324755e+00,  3.32216949e+00,\n",
       "        3.35114796e+00,  3.34001956e+00,  3.27697634e+00,  3.15484230e+00,\n",
       "        2.97928782e+00,  2.76594459e+00,  2.52987017e+00,  2.28118037e+00,\n",
       "        2.02603066e+00,  1.76827859e+00,  1.51052701e+00,  1.25464698e+00,\n",
       "        1.00200632e+00,  7.53551374e-01,  5.09830797e-01,  2.71017584e-01,\n",
       "        3.69636812e-02, -1.92698476e-01, -4.18411667e-01, -6.40523403e-01,\n",
       "       -8.59108067e-01, -1.07379134e+00, -1.28356840e+00, -1.48658335e+00,\n",
       "       -1.67981331e+00, -1.85859909e+00, -2.01611063e+00, -2.14357508e+00,\n",
       "       -2.23368780e+00, -2.28745297e+00, -2.31492611e+00, -2.32714599e+00,\n",
       "       -2.33132293e+00, -2.33132039e+00, -2.32911206e+00, -2.32571579e+00,\n",
       "       -2.32167031e+00, -2.31726907e+00, -2.31267619e+00, -2.30798517e+00,\n",
       "       -2.30324917e+00, -2.29849692e+00, -2.29374125e+00, -2.28898405e+00,\n",
       "       -2.28421940e+00, -2.27943587e+00, -2.27461840e+00, -2.26974984e+00,\n",
       "       -2.26481235e+00, -2.25978846e+00, -2.25466192e+00, -2.24941833e+00,\n",
       "       -2.24404563e+00, -2.23853445e+00, -2.23287841e+00, -2.22707440e+00,\n",
       "       -2.22112288e+00, -2.21502803e+00, -2.20879788e+00, -2.20244424e+00,\n",
       "       -2.19598231e+00, -2.18942998e+00, -2.18280677e+00, -2.17613243e+00,\n",
       "       -2.16942542e+00, -2.16270124e+00, -2.15597115e+00, -2.14924114e+00,\n",
       "       -2.14251137e+00, -2.13577551e+00, -2.12901909e+00, -2.12221451e+00,\n",
       "       -2.11530834e+00, -2.10819235e+00, -2.10064047e+00, -2.09217378e+00,\n",
       "       -2.08176894e+00, -2.06722890e+00, -2.04392511e+00, -2.00309503e+00,\n",
       "       -1.93278198e+00, -1.82576515e+00, -1.68544322e+00, -1.52049272e+00,\n",
       "       -1.33881107e+00, -1.14601897e+00, -9.45837051e-01, -7.40633343e-01,\n",
       "       -5.31809268e-01, -3.20053722e-01, -1.05531868e-01,  1.11946035e-01,\n",
       "        3.32755897e-01,  5.57292425e-01,  7.85818214e-01,  1.01834815e+00,\n",
       "        1.25458126e+00,  1.49387837e+00,  1.73526760e+00,  1.97744590e+00,\n",
       "        2.21873134e+00,  2.45690209e+00,  2.68881997e+00,  2.90967183e+00,\n",
       "        3.11165075e+00,  3.28247378e+00,  3.40656349e+00,  3.47307890e+00,\n",
       "        3.48400218e+00,  3.45020112e+00,  3.38313370e+00,  3.29153713e+00,\n",
       "        3.18151924e+00,  3.05734575e+00,  2.92208245e+00,  2.77801484e+00,\n",
       "        2.62691007e+00,  2.47018074e+00,  2.30898925e+00,  2.14431539e+00,\n",
       "        1.97700044e+00,  1.80777538e+00,  1.63727764e+00,  1.46605898e+00,\n",
       "        1.29458586e+00,  1.12323375e+00,  9.52276824e-01,  7.81875578e-01,\n",
       "        6.12066382e-01,  4.42757845e-01,  2.73739215e-01,  1.04704279e-01,\n",
       "       -6.47092721e-02, -2.34869419e-01, -4.06096330e-01, -5.78615021e-01,\n",
       "       -7.52521636e-01, -9.27766842e-01, -1.10415527e+00, -1.28135635e+00,\n",
       "       -1.45892053e+00, -1.63629492e+00, -1.81283432e+00, -1.98780451e+00,\n",
       "       -2.16037615e+00, -2.32960705e+00, -2.49440989e+00, -2.65349993e+00,\n",
       "       -2.80531252e+00, -2.94787267e+00, -3.07858409e+00, -3.19387992e+00,\n",
       "       -3.28864006e+00, -3.35526759e+00, -3.38259038e+00, -3.35630159e+00,\n",
       "       -3.26571277e+00, -3.11534665e+00, -2.92298005e+00, -2.70586194e+00,\n",
       "       -2.47506585e+00, -2.23697424e+00, -1.99541555e+00, -1.75293277e+00,\n",
       "       -1.51141045e+00, -1.27235224e+00, -1.03697195e+00, -8.06184655e-01,\n",
       "       -5.80553862e-01, -3.60239119e-01, -1.44981284e-01,  6.58501493e-02,\n",
       "        2.73142139e-01,  4.77870925e-01,  6.80912291e-01,  8.82861175e-01,\n",
       "        1.08388178e+00,  1.28359008e+00,  1.48094882e+00,  1.67413296e+00,\n",
       "        1.86029956e+00,  2.03516479e+00,  2.19227795e+00,  2.32210616e+00,\n",
       "        2.41243045e+00,  2.45452087e+00,  2.45344464e+00,  2.42475735e+00,\n",
       "        2.38176208e+00,  2.33188797e+00,  2.27875888e+00,  2.22410761e+00,\n",
       "        2.16876749e+00,  2.11313704e+00,  2.05740012e+00,  2.00163411e+00,\n",
       "        1.94586531e+00,  1.89009806e+00,  1.83433046e+00,  1.77856293e+00,\n",
       "        1.72280301e+00,  1.66706818e+00,  1.61138770e+00,  1.55580399e+00,\n",
       "        1.50037379e+00,  1.44516906e+00,  1.39027758e+00,  1.33580279e+00,\n",
       "        1.28186262e+00,  1.22858678e+00,  1.17611193e+00,  1.12457447e+00,\n",
       "        1.07410044e+00,  1.02479257e+00,  9.76714891e-01,  9.29875618e-01,\n",
       "        8.84209797e-01,  8.39563768e-01,  7.95683905e-01,  7.52212469e-01,\n",
       "        7.08693286e-01,  6.64589325e-01,  6.19313155e-01,  5.72269401e-01])"
      ]
     },
     "execution_count": 7,
     "metadata": {},
     "output_type": "execute_result"
    }
   ],
   "source": [
    "x2[2:]"
   ]
  },
  {
   "cell_type": "code",
   "execution_count": 10,
   "metadata": {},
   "outputs": [],
   "source": [
    "ani.save('test.gif', writer='pillow', fps=1 / dt)"
   ]
  },
  {
   "cell_type": "code",
   "execution_count": 11,
   "metadata": {},
   "outputs": [
    {
     "data": {
      "text/plain": [
       "33.333333333333336"
      ]
     },
     "execution_count": 11,
     "metadata": {},
     "output_type": "execute_result"
    }
   ],
   "source": [
    "1/dt"
   ]
  },
  {
   "cell_type": "code",
   "execution_count": 38,
   "metadata": {},
   "outputs": [
    {
     "data": {
      "image/png": "[encoded data removed]",
      "text/plain": [
       "<Figure size 432x288 with 1 Axes>"
      ]
     },
     "metadata": {},
     "output_type": "display_data"
    }
   ],
   "source": [
    "fig = plt.figure()\n",
    "fig.patch.set_facecolor('black')\n",
    "ax = fig.add_subplot(111, autoscale_on=True, xlim=(-4, 4), ylim=(-4, 4))\n",
    "ax.set_aspect('equal')\n",
    "ax.axis('off')\n",
    "\n",
    "# thisx = [0, x1[2], x2[2]]\n",
    "# thisy = [1, y1[2]+1, y2[2]+1]\n",
    "# ax.plot(thisx, thisy, color='cyan')\n",
    "# thisx = [0, x1[200], x2[200]]\n",
    "# thisy = [1, y1[200]+1, y2[200]+1]\n",
    "# ax.plot(thisx, thisy, color='cyan')\n",
    "# ax.plot(x2[:], y2[:]+1, color='cyan')\n",
    "\n",
    "\n",
    "points = np.array([x2, y2+1]).T.reshape(-1, 1, 2)\n",
    "segments = np.concatenate([points[:-1], points[1:]], axis=1)\n",
    "\n",
    "norm = plt.Normalize(y2.min(), y2.max())\n",
    "lc = LineCollection(segments, cmap='Spectral', norm=norm)\n",
    "# ax.scatter(x2[:], y2[:]+1, c=y2[:], cmap='twilight')\n",
    "lc.set_array(y2)\n",
    "ax.add_collection(lc)\n",
    "\n",
    "plt.show()"
   ]
  },
  {
   "cell_type": "code",
   "execution_count": 9,
   "metadata": {},
   "outputs": [
    {
     "data": {
      "text/plain": [
       "array([[[ 1.38475445, -0.96961551],\n",
       "        [ 1.3849094 , -0.97314767]],\n",
       "\n",
       "       [[ 1.3849094 , -0.97314767],\n",
       "        [ 1.38537232, -0.9837657 ]],\n",
       "\n",
       "       [[ 1.38537232, -0.9837657 ],\n",
       "        [ 1.38613713, -1.00153414]],\n",
       "\n",
       "       ...,\n",
       "\n",
       "       [[ 0.70869329, -1.31172851],\n",
       "        [ 0.66458932, -1.38380976]],\n",
       "\n",
       "       [[ 0.66458932, -1.38380976],\n",
       "        [ 0.61931316, -1.46601653]],\n",
       "\n",
       "       [[ 0.61931316, -1.46601653],\n",
       "        [ 0.5722694 , -1.55889141]]])"
      ]
     },
     "execution_count": 9,
     "metadata": {},
     "output_type": "execute_result"
    }
   ],
   "source": [
    "segments"
   ]
  },
  {
   "cell_type": "code",
   "execution_count": null,
   "metadata": {},
   "outputs": [],
   "source": []
  },
  {
   "cell_type": "code",
   "execution_count": null,
   "metadata": {},
   "outputs": [],
   "source": []
  },
  {
   "cell_type": "code",
   "execution_count": 8,
   "metadata": {},
   "outputs": [],
   "source": [
    "a = np.linspace(121.0, 121.01, 100)"
   ]
  },
  {
   "cell_type": "code",
   "execution_count": 12,
   "metadata": {},
   "outputs": [],
   "source": [
    "a = np.linspace(121.0, 121.01, 1)"
   ]
  },
  {
   "cell_type": "code",
   "execution_count": 13,
   "metadata": {},
   "outputs": [
    {
     "data": {
      "text/plain": [
       "True"
      ]
     },
     "execution_count": 13,
     "metadata": {},
     "output_type": "execute_result"
    }
   ],
   "source": [
    "121.0 == a[0]"
   ]
  }
 ],
 "metadata": {
  "kernelspec": {
   "display_name": "Python 3",
   "language": "python",
   "name": "python3"
  },
  "language_info": {
   "codemirror_mode": {
    "name": "ipython",
    "version": 3
   },
   "file_extension": ".py",
   "mimetype": "text/x-python",
   "name": "python",
   "nbconvert_exporter": "python",
   "pygments_lexer": "ipython3",
   "version": "3.8.3"
  }
 },
 "nbformat": 4,
 "nbformat_minor": 4
}
