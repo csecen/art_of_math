{
 "cells": [
  {
   "cell_type": "code",
   "execution_count": 1,
   "metadata": {
    "collapsed": true,
    "jupyter": {
     "outputs_hidden": true
    }
   },
   "outputs": [
    {
     "name": "stderr",
     "output_type": "stream",
     "text": [
      "\n",
      "Attaching package: ‘dplyr’\n",
      "\n",
      "\n",
      "The following objects are masked from ‘package:stats’:\n",
      "\n",
      "    filter, lag\n",
      "\n",
      "\n",
      "The following objects are masked from ‘package:base’:\n",
      "\n",
      "    intersect, setdiff, setequal, union\n",
      "\n",
      "\n"
     ]
    }
   ],
   "source": [
    "library(Rcpp)\n",
    "library(ggplot2)\n",
    "library(dplyr)"
   ]
  },
  {
   "cell_type": "code",
   "execution_count": 6,
   "metadata": {},
   "outputs": [],
   "source": [
    "opt = theme(legend.position  = \"none\",\n",
    "            panel.background = element_rect(fill=\"black\"),\n",
    "            axis.ticks= element_blank(),\n",
    "            panel.grid= element_blank(),\n",
    "            axis.title= element_blank(),\n",
    "            axis.text= element_blank())"
   ]
  },
  {
   "cell_type": "code",
   "execution_count": 7,
   "metadata": {},
   "outputs": [],
   "source": [
    "cppFunction('DataFrame createTrajectory(int n, double x0, double y0, \n",
    "            double a, double b, double c, double d) {\n",
    "            // create the columns\n",
    "            NumericVector x(n);\n",
    "            NumericVector y(n);\n",
    "            x[0]=x0;\n",
    "            y[0]=y0;\n",
    "            for(int i = 1; i < n; ++i) {\n",
    "            x[i] = sin(a*y[i-1])+c*cos(a*x[i-1]);\n",
    "            y[i] = sin(b*x[i-1])+d*cos(b*y[i-1]);\n",
    "            }\n",
    "            // return a new data frame\n",
    "            return DataFrame::create(_[\"x\"]= x, _[\"y\"]= y);\n",
    "            }\n",
    "            ')"
   ]
  },
  {
   "cell_type": "code",
   "execution_count": 9,
   "metadata": {},
   "outputs": [
    {
     "data": {
      "text/html": [
       "<strong>png:</strong> 2"
      ],
      "text/latex": [
       "\\textbf{png:} 2"
      ],
      "text/markdown": [
       "**png:** 2"
      ],
      "text/plain": [
       "png \n",
       "  2 "
      ]
     },
     "metadata": {},
     "output_type": "display_data"
    }
   ],
   "source": [
    "a=-1.24458046630025\n",
    "b=-1.25191834103316 \n",
    "c=-1.81590817030519 \n",
    "d=-1.90866735205054\n",
    "\n",
    "a=-1.4\n",
    "b=1.6\n",
    "c=1.0\n",
    "d=0.7 \n",
    "\n",
    "\n",
    "df=createTrajectory(10000000, 0, 0, a, b, c, d)\n",
    "\n",
    "png(\"Clifford2.png\", units=\"px\", width=1600, height=1600, res=300)\n",
    "ggplot(df, aes(x, y)) + geom_point(color=\"white\", shape=46, alpha=.01) + opt\n",
    "dev.off()"
   ]
  }
 ],
 "metadata": {
  "kernelspec": {
   "display_name": "R",
   "language": "R",
   "name": "ir"
  },
  "language_info": {
   "codemirror_mode": "r",
   "file_extension": ".r",
   "mimetype": "text/x-r-source",
   "name": "R",
   "pygments_lexer": "r",
   "version": "4.2.2"
  }
 },
 "nbformat": 4,
 "nbformat_minor": 4
}
